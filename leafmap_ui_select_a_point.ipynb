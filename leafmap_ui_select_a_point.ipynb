{
 "cells": [
  {
   "cell_type": "code",
   "execution_count": 1,
   "id": "87c0b326",
   "metadata": {},
   "outputs": [],
   "source": [
    "import leafmap"
   ]
  },
  {
   "cell_type": "code",
   "execution_count": 2,
   "id": "0e255183",
   "metadata": {},
   "outputs": [
    {
     "data": {
      "application/vnd.jupyter.widget-view+json": {
       "model_id": "5f712289223241159b2e6eca205d62f6",
       "version_major": 2,
       "version_minor": 0
      },
      "text/plain": [
       "Map(center=[20.5937, 78.9629], controls=(ZoomControl(options=['position', 'zoom_in_text', 'zoom_in_title', 'zo…"
      ]
     },
     "metadata": {},
     "output_type": "display_data"
    }
   ],
   "source": [
    "m = leafmap.Map(\n",
    "    draw_control=True,\n",
    "    measure_control=False,\n",
    "    fullscreen_control=False,\n",
    "    attribution_control=True,\n",
    "    height = \"450px\",\n",
    "    width = \"800px\",\n",
    "    center = (20.5937, 78.9629), #India\n",
    "    zoom = 4\n",
    ")\n",
    "\n",
    "m"
   ]
  },
  {
   "cell_type": "markdown",
   "id": "a7ed965c",
   "metadata": {},
   "source": [
    "<h4>Select a point on the map</h4>"
   ]
  },
  {
   "cell_type": "code",
   "execution_count": 3,
   "id": "bd02e402",
   "metadata": {},
   "outputs": [
    {
     "data": {
      "text/plain": [
       "{'type': 'Feature',\n",
       " 'properties': {},\n",
       " 'geometry': {'type': 'Point', 'coordinates': [74.909179, 26.415485]}}"
      ]
     },
     "execution_count": 3,
     "metadata": {},
     "output_type": "execute_result"
    }
   ],
   "source": [
    "last_feature = m.draw_features[-1]\n",
    "last_feature"
   ]
  },
  {
   "cell_type": "code",
   "execution_count": 4,
   "id": "708e082a",
   "metadata": {},
   "outputs": [
    {
     "data": {
      "text/plain": [
       "'Point'"
      ]
     },
     "execution_count": 4,
     "metadata": {},
     "output_type": "execute_result"
    }
   ],
   "source": [
    "last_feature['geometry']['type']"
   ]
  },
  {
   "cell_type": "code",
   "execution_count": 5,
   "id": "1661fe3f",
   "metadata": {},
   "outputs": [
    {
     "data": {
      "text/plain": [
       "[74.909179, 26.415485]"
      ]
     },
     "execution_count": 5,
     "metadata": {},
     "output_type": "execute_result"
    }
   ],
   "source": [
    "last_feature['geometry']['coordinates']"
   ]
  },
  {
   "cell_type": "code",
   "execution_count": 6,
   "id": "e036e170",
   "metadata": {},
   "outputs": [],
   "source": [
    "# sel_lat = 20.5937\n",
    "# sel_lon = 78.9629\n",
    "\n",
    "sel_lat = last_feature['geometry']['coordinates'][1]\n",
    "sel_lon = last_feature['geometry']['coordinates'][0]"
   ]
  }
 ],
 "metadata": {
  "kernelspec": {
   "display_name": "Python 3 (ipykernel)",
   "language": "python",
   "name": "python3"
  },
  "language_info": {
   "codemirror_mode": {
    "name": "ipython",
    "version": 3
   },
   "file_extension": ".py",
   "mimetype": "text/x-python",
   "name": "python",
   "nbconvert_exporter": "python",
   "pygments_lexer": "ipython3",
   "version": "3.10.5"
  }
 },
 "nbformat": 4,
 "nbformat_minor": 5
}
